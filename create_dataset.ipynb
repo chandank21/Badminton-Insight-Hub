{
 "cells": [
  {
   "cell_type": "code",
   "execution_count": 17,
   "id": "729bd281",
   "metadata": {},
   "outputs": [],
   "source": [
    "import imageio\n",
    "from moviepy.video.io.VideoFileClip import VideoFileClip\n",
    "import os\n",
    "import random\n",
    "import matplotlib.pyplot as plt\n",
    "import cv2"
   ]
  },
  {
   "cell_type": "code",
   "execution_count": 24,
   "id": "8e0d7681",
   "metadata": {},
   "outputs": [],
   "source": [
    "def extract_shot(input_video_path, output_folder, endtime):\n",
    "    _, file_name = os.path.split(input_video_path)\n",
    "    delta = 5\n",
    "    for end_time in endtime:\n",
    "        output_clip_path = os.path.join(output_folder, f\"{file_name[:-4]}_{end_time}.mp4\")\n",
    "        video_clip = VideoFileClip(input_video_path).subclip(end_time - delta, end_time)\n",
    "        video_clip.write_videofile(output_clip_path, codec='libx264')\n",
    "        \n",
    "def time_in_seconds(endtime):\n",
    "    endtimelist = []\n",
    "    for end_time in endtime:\n",
    "        times = end_time.split(\":\")\n",
    "        end_time = 0\n",
    "        for i, time in enumerate(reversed(times)):\n",
    "            if i == 0: time = int(time) + 1;\n",
    "            end_time += int(time) * (60**i)\n",
    "        endtimelist.append(end_time)\n",
    "    return endtimelist\n",
    "\n",
    "def extract_non_shot(input_video_path, output_folder, endtime):\n",
    "    _, file_name = os.path.split(input_video_path)\n",
    "    delta = 5\n",
    "    for end_time in endtime:\n",
    "            end_time = random.choice([end_time - delta, end_time - delta - delta])\n",
    "            output_clip_path = os.path.join(output_folder, f\"{file_name[:-4]}_{end_time}.mp4\")\n",
    "            video_clip = VideoFileClip(input_video_path).subclip(end_time - delta, end_time)\n",
    "            video_clip.write_videofile(output_clip_path, codec='libx264')"
   ]
  },
  {
   "cell_type": "code",
   "execution_count": 25,
   "id": "329d145f",
   "metadata": {},
   "outputs": [],
   "source": [
    "shot_vid_dir = r\"C:\\Users\\chakumar\\CV Projects\\Badminton Highlight Creation\\ShotVideoData\"\n",
    "nonshot_vid_dir = r\"C:\\Users\\chakumar\\CV Projects\\Badminton Highlight Creation\\notShotVideoData\""
   ]
  },
  {
   "cell_type": "code",
   "execution_count": 26,
   "id": "1f7f5e6c",
   "metadata": {},
   "outputs": [
    {
     "name": "stdout",
     "output_type": "stream",
     "text": [
      "Moviepy - Building video C:\\Users\\chakumar\\CV Projects\\Badminton Highlight Creation\\notShotVideoData\\YONEXFrenchOpen_592.mp4.\n",
      "MoviePy - Writing audio in YONEXFrenchOpen_592TEMP_MPY_wvf_snd.mp3\n"
     ]
    },
    {
     "name": "stderr",
     "output_type": "stream",
     "text": [
      "                                                                   \r"
     ]
    },
    {
     "name": "stdout",
     "output_type": "stream",
     "text": [
      "MoviePy - Done.\n",
      "Moviepy - Writing video C:\\Users\\chakumar\\CV Projects\\Badminton Highlight Creation\\notShotVideoData\\YONEXFrenchOpen_592.mp4\n",
      "\n"
     ]
    },
    {
     "name": "stderr",
     "output_type": "stream",
     "text": [
      "                                                               \r"
     ]
    },
    {
     "name": "stdout",
     "output_type": "stream",
     "text": [
      "Moviepy - Done !\n",
      "Moviepy - video ready C:\\Users\\chakumar\\CV Projects\\Badminton Highlight Creation\\notShotVideoData\\YONEXFrenchOpen_592.mp4\n",
      "Moviepy - Building video C:\\Users\\chakumar\\CV Projects\\Badminton Highlight Creation\\notShotVideoData\\YONEXFrenchOpen_621.mp4.\n",
      "MoviePy - Writing audio in YONEXFrenchOpen_621TEMP_MPY_wvf_snd.mp3\n"
     ]
    },
    {
     "name": "stderr",
     "output_type": "stream",
     "text": [
      "                                                                  \r"
     ]
    },
    {
     "name": "stdout",
     "output_type": "stream",
     "text": [
      "MoviePy - Done.\n",
      "Moviepy - Writing video C:\\Users\\chakumar\\CV Projects\\Badminton Highlight Creation\\notShotVideoData\\YONEXFrenchOpen_621.mp4\n",
      "\n"
     ]
    },
    {
     "name": "stderr",
     "output_type": "stream",
     "text": [
      "                                                              \r"
     ]
    },
    {
     "name": "stdout",
     "output_type": "stream",
     "text": [
      "Moviepy - Done !\n",
      "Moviepy - video ready C:\\Users\\chakumar\\CV Projects\\Badminton Highlight Creation\\notShotVideoData\\YONEXFrenchOpen_621.mp4\n",
      "Moviepy - Building video C:\\Users\\chakumar\\CV Projects\\Badminton Highlight Creation\\notShotVideoData\\YONEXFrenchOpen_652.mp4.\n",
      "MoviePy - Writing audio in YONEXFrenchOpen_652TEMP_MPY_wvf_snd.mp3\n"
     ]
    },
    {
     "name": "stderr",
     "output_type": "stream",
     "text": [
      "                                                                  \r"
     ]
    },
    {
     "name": "stdout",
     "output_type": "stream",
     "text": [
      "MoviePy - Done.\n",
      "Moviepy - Writing video C:\\Users\\chakumar\\CV Projects\\Badminton Highlight Creation\\notShotVideoData\\YONEXFrenchOpen_652.mp4\n",
      "\n"
     ]
    },
    {
     "name": "stderr",
     "output_type": "stream",
     "text": [
      "                                                               \r"
     ]
    },
    {
     "name": "stdout",
     "output_type": "stream",
     "text": [
      "Moviepy - Done !\n",
      "Moviepy - video ready C:\\Users\\chakumar\\CV Projects\\Badminton Highlight Creation\\notShotVideoData\\YONEXFrenchOpen_652.mp4\n",
      "Moviepy - Building video C:\\Users\\chakumar\\CV Projects\\Badminton Highlight Creation\\notShotVideoData\\YONEXFrenchOpen_694.mp4.\n",
      "MoviePy - Writing audio in YONEXFrenchOpen_694TEMP_MPY_wvf_snd.mp3\n"
     ]
    },
    {
     "name": "stderr",
     "output_type": "stream",
     "text": [
      "                                                                  \r"
     ]
    },
    {
     "name": "stdout",
     "output_type": "stream",
     "text": [
      "MoviePy - Done.\n",
      "Moviepy - Writing video C:\\Users\\chakumar\\CV Projects\\Badminton Highlight Creation\\notShotVideoData\\YONEXFrenchOpen_694.mp4\n",
      "\n"
     ]
    },
    {
     "name": "stderr",
     "output_type": "stream",
     "text": [
      "                                                               \r"
     ]
    },
    {
     "name": "stdout",
     "output_type": "stream",
     "text": [
      "Moviepy - Done !\n",
      "Moviepy - video ready C:\\Users\\chakumar\\CV Projects\\Badminton Highlight Creation\\notShotVideoData\\YONEXFrenchOpen_694.mp4\n",
      "Moviepy - Building video C:\\Users\\chakumar\\CV Projects\\Badminton Highlight Creation\\notShotVideoData\\YONEXFrenchOpen_720.mp4.\n",
      "MoviePy - Writing audio in YONEXFrenchOpen_720TEMP_MPY_wvf_snd.mp3\n"
     ]
    },
    {
     "name": "stderr",
     "output_type": "stream",
     "text": [
      "                                                                  \r"
     ]
    },
    {
     "name": "stdout",
     "output_type": "stream",
     "text": [
      "MoviePy - Done.\n",
      "Moviepy - Writing video C:\\Users\\chakumar\\CV Projects\\Badminton Highlight Creation\\notShotVideoData\\YONEXFrenchOpen_720.mp4\n",
      "\n"
     ]
    },
    {
     "name": "stderr",
     "output_type": "stream",
     "text": [
      "                                                               \r"
     ]
    },
    {
     "name": "stdout",
     "output_type": "stream",
     "text": [
      "Moviepy - Done !\n",
      "Moviepy - video ready C:\\Users\\chakumar\\CV Projects\\Badminton Highlight Creation\\notShotVideoData\\YONEXFrenchOpen_720.mp4\n",
      "Moviepy - Building video C:\\Users\\chakumar\\CV Projects\\Badminton Highlight Creation\\notShotVideoData\\YONEXFrenchOpen_754.mp4.\n",
      "MoviePy - Writing audio in YONEXFrenchOpen_754TEMP_MPY_wvf_snd.mp3\n"
     ]
    },
    {
     "name": "stderr",
     "output_type": "stream",
     "text": [
      "                                                                  \r"
     ]
    },
    {
     "name": "stdout",
     "output_type": "stream",
     "text": [
      "MoviePy - Done.\n",
      "Moviepy - Writing video C:\\Users\\chakumar\\CV Projects\\Badminton Highlight Creation\\notShotVideoData\\YONEXFrenchOpen_754.mp4\n",
      "\n"
     ]
    },
    {
     "name": "stderr",
     "output_type": "stream",
     "text": [
      "                                                               \r"
     ]
    },
    {
     "name": "stdout",
     "output_type": "stream",
     "text": [
      "Moviepy - Done !\n",
      "Moviepy - video ready C:\\Users\\chakumar\\CV Projects\\Badminton Highlight Creation\\notShotVideoData\\YONEXFrenchOpen_754.mp4\n",
      "Moviepy - Building video C:\\Users\\chakumar\\CV Projects\\Badminton Highlight Creation\\notShotVideoData\\YONEXFrenchOpen_781.mp4.\n",
      "MoviePy - Writing audio in YONEXFrenchOpen_781TEMP_MPY_wvf_snd.mp3\n"
     ]
    },
    {
     "name": "stderr",
     "output_type": "stream",
     "text": [
      "                                                                  \r"
     ]
    },
    {
     "name": "stdout",
     "output_type": "stream",
     "text": [
      "MoviePy - Done.\n",
      "Moviepy - Writing video C:\\Users\\chakumar\\CV Projects\\Badminton Highlight Creation\\notShotVideoData\\YONEXFrenchOpen_781.mp4\n",
      "\n"
     ]
    },
    {
     "name": "stderr",
     "output_type": "stream",
     "text": [
      "                                                               \r"
     ]
    },
    {
     "name": "stdout",
     "output_type": "stream",
     "text": [
      "Moviepy - Done !\n",
      "Moviepy - video ready C:\\Users\\chakumar\\CV Projects\\Badminton Highlight Creation\\notShotVideoData\\YONEXFrenchOpen_781.mp4\n",
      "Moviepy - Building video C:\\Users\\chakumar\\CV Projects\\Badminton Highlight Creation\\notShotVideoData\\YONEXFrenchOpen_810.mp4.\n",
      "MoviePy - Writing audio in YONEXFrenchOpen_810TEMP_MPY_wvf_snd.mp3\n"
     ]
    },
    {
     "name": "stderr",
     "output_type": "stream",
     "text": [
      "                                                                   \r"
     ]
    },
    {
     "name": "stdout",
     "output_type": "stream",
     "text": [
      "MoviePy - Done.\n",
      "Moviepy - Writing video C:\\Users\\chakumar\\CV Projects\\Badminton Highlight Creation\\notShotVideoData\\YONEXFrenchOpen_810.mp4\n",
      "\n"
     ]
    },
    {
     "name": "stderr",
     "output_type": "stream",
     "text": [
      "                                                              \r"
     ]
    },
    {
     "name": "stdout",
     "output_type": "stream",
     "text": [
      "Moviepy - Done !\n",
      "Moviepy - video ready C:\\Users\\chakumar\\CV Projects\\Badminton Highlight Creation\\notShotVideoData\\YONEXFrenchOpen_810.mp4\n",
      "Moviepy - Building video C:\\Users\\chakumar\\CV Projects\\Badminton Highlight Creation\\notShotVideoData\\YONEXFrenchOpen_862.mp4.\n",
      "MoviePy - Writing audio in YONEXFrenchOpen_862TEMP_MPY_wvf_snd.mp3\n"
     ]
    },
    {
     "name": "stderr",
     "output_type": "stream",
     "text": [
      "                                                                  \r"
     ]
    },
    {
     "name": "stdout",
     "output_type": "stream",
     "text": [
      "MoviePy - Done.\n",
      "Moviepy - Writing video C:\\Users\\chakumar\\CV Projects\\Badminton Highlight Creation\\notShotVideoData\\YONEXFrenchOpen_862.mp4\n",
      "\n"
     ]
    },
    {
     "name": "stderr",
     "output_type": "stream",
     "text": [
      "                                                               \r"
     ]
    },
    {
     "name": "stdout",
     "output_type": "stream",
     "text": [
      "Moviepy - Done !\n",
      "Moviepy - video ready C:\\Users\\chakumar\\CV Projects\\Badminton Highlight Creation\\notShotVideoData\\YONEXFrenchOpen_862.mp4\n",
      "Moviepy - Building video C:\\Users\\chakumar\\CV Projects\\Badminton Highlight Creation\\notShotVideoData\\YONEXFrenchOpen_887.mp4.\n",
      "MoviePy - Writing audio in YONEXFrenchOpen_887TEMP_MPY_wvf_snd.mp3\n"
     ]
    },
    {
     "name": "stderr",
     "output_type": "stream",
     "text": [
      "                                                                  \r"
     ]
    },
    {
     "name": "stdout",
     "output_type": "stream",
     "text": [
      "MoviePy - Done.\n",
      "Moviepy - Writing video C:\\Users\\chakumar\\CV Projects\\Badminton Highlight Creation\\notShotVideoData\\YONEXFrenchOpen_887.mp4\n",
      "\n"
     ]
    },
    {
     "name": "stderr",
     "output_type": "stream",
     "text": [
      "                                                               \r"
     ]
    },
    {
     "name": "stdout",
     "output_type": "stream",
     "text": [
      "Moviepy - Done !\n",
      "Moviepy - video ready C:\\Users\\chakumar\\CV Projects\\Badminton Highlight Creation\\notShotVideoData\\YONEXFrenchOpen_887.mp4\n",
      "Moviepy - Building video C:\\Users\\chakumar\\CV Projects\\Badminton Highlight Creation\\notShotVideoData\\YONEXFrenchOpen_916.mp4.\n",
      "MoviePy - Writing audio in YONEXFrenchOpen_916TEMP_MPY_wvf_snd.mp3\n"
     ]
    },
    {
     "name": "stderr",
     "output_type": "stream",
     "text": [
      "                                                                 \r"
     ]
    },
    {
     "name": "stdout",
     "output_type": "stream",
     "text": [
      "MoviePy - Done.\n",
      "Moviepy - Writing video C:\\Users\\chakumar\\CV Projects\\Badminton Highlight Creation\\notShotVideoData\\YONEXFrenchOpen_916.mp4\n",
      "\n"
     ]
    },
    {
     "name": "stderr",
     "output_type": "stream",
     "text": [
      "                                                               \r"
     ]
    },
    {
     "name": "stdout",
     "output_type": "stream",
     "text": [
      "Moviepy - Done !\n",
      "Moviepy - video ready C:\\Users\\chakumar\\CV Projects\\Badminton Highlight Creation\\notShotVideoData\\YONEXFrenchOpen_916.mp4\n",
      "Moviepy - Building video C:\\Users\\chakumar\\CV Projects\\Badminton Highlight Creation\\notShotVideoData\\YONEXFrenchOpen_978.mp4.\n",
      "MoviePy - Writing audio in YONEXFrenchOpen_978TEMP_MPY_wvf_snd.mp3\n"
     ]
    },
    {
     "name": "stderr",
     "output_type": "stream",
     "text": [
      "                                                                  \r"
     ]
    },
    {
     "name": "stdout",
     "output_type": "stream",
     "text": [
      "MoviePy - Done.\n",
      "Moviepy - Writing video C:\\Users\\chakumar\\CV Projects\\Badminton Highlight Creation\\notShotVideoData\\YONEXFrenchOpen_978.mp4\n",
      "\n"
     ]
    },
    {
     "name": "stderr",
     "output_type": "stream",
     "text": [
      "                                                               \r"
     ]
    },
    {
     "name": "stdout",
     "output_type": "stream",
     "text": [
      "Moviepy - Done !\n",
      "Moviepy - video ready C:\\Users\\chakumar\\CV Projects\\Badminton Highlight Creation\\notShotVideoData\\YONEXFrenchOpen_978.mp4\n",
      "Moviepy - Building video C:\\Users\\chakumar\\CV Projects\\Badminton Highlight Creation\\notShotVideoData\\YONEXFrenchOpen_997.mp4.\n",
      "MoviePy - Writing audio in YONEXFrenchOpen_997TEMP_MPY_wvf_snd.mp3\n"
     ]
    },
    {
     "name": "stderr",
     "output_type": "stream",
     "text": [
      "                                                                 \r"
     ]
    },
    {
     "name": "stdout",
     "output_type": "stream",
     "text": [
      "MoviePy - Done.\n",
      "Moviepy - Writing video C:\\Users\\chakumar\\CV Projects\\Badminton Highlight Creation\\notShotVideoData\\YONEXFrenchOpen_997.mp4\n",
      "\n"
     ]
    },
    {
     "name": "stderr",
     "output_type": "stream",
     "text": [
      "                                                              \r"
     ]
    },
    {
     "name": "stdout",
     "output_type": "stream",
     "text": [
      "Moviepy - Done !\n",
      "Moviepy - video ready C:\\Users\\chakumar\\CV Projects\\Badminton Highlight Creation\\notShotVideoData\\YONEXFrenchOpen_997.mp4\n",
      "Moviepy - Building video C:\\Users\\chakumar\\CV Projects\\Badminton Highlight Creation\\notShotVideoData\\YONEXFrenchOpen_1026.mp4.\n",
      "MoviePy - Writing audio in YONEXFrenchOpen_1026TEMP_MPY_wvf_snd.mp3\n"
     ]
    },
    {
     "name": "stderr",
     "output_type": "stream",
     "text": [
      "                                                                   \r"
     ]
    },
    {
     "name": "stdout",
     "output_type": "stream",
     "text": [
      "MoviePy - Done.\n",
      "Moviepy - Writing video C:\\Users\\chakumar\\CV Projects\\Badminton Highlight Creation\\notShotVideoData\\YONEXFrenchOpen_1026.mp4\n",
      "\n"
     ]
    },
    {
     "name": "stderr",
     "output_type": "stream",
     "text": [
      "                                                               \r"
     ]
    },
    {
     "name": "stdout",
     "output_type": "stream",
     "text": [
      "Moviepy - Done !\n",
      "Moviepy - video ready C:\\Users\\chakumar\\CV Projects\\Badminton Highlight Creation\\notShotVideoData\\YONEXFrenchOpen_1026.mp4\n",
      "Moviepy - Building video C:\\Users\\chakumar\\CV Projects\\Badminton Highlight Creation\\notShotVideoData\\YONEXFrenchOpen_1059.mp4.\n",
      "MoviePy - Writing audio in YONEXFrenchOpen_1059TEMP_MPY_wvf_snd.mp3\n"
     ]
    },
    {
     "name": "stderr",
     "output_type": "stream",
     "text": [
      "                                                                  \r"
     ]
    },
    {
     "name": "stdout",
     "output_type": "stream",
     "text": [
      "MoviePy - Done.\n",
      "Moviepy - Writing video C:\\Users\\chakumar\\CV Projects\\Badminton Highlight Creation\\notShotVideoData\\YONEXFrenchOpen_1059.mp4\n",
      "\n"
     ]
    },
    {
     "name": "stderr",
     "output_type": "stream",
     "text": [
      "                                                              \r"
     ]
    },
    {
     "name": "stdout",
     "output_type": "stream",
     "text": [
      "Moviepy - Done !\n",
      "Moviepy - video ready C:\\Users\\chakumar\\CV Projects\\Badminton Highlight Creation\\notShotVideoData\\YONEXFrenchOpen_1059.mp4\n",
      "Moviepy - Building video C:\\Users\\chakumar\\CV Projects\\Badminton Highlight Creation\\notShotVideoData\\YONEXFrenchOpen_1215.mp4.\n",
      "MoviePy - Writing audio in YONEXFrenchOpen_1215TEMP_MPY_wvf_snd.mp3\n"
     ]
    },
    {
     "name": "stderr",
     "output_type": "stream",
     "text": [
      "                                                                  \r"
     ]
    },
    {
     "name": "stdout",
     "output_type": "stream",
     "text": [
      "MoviePy - Done.\n",
      "Moviepy - Writing video C:\\Users\\chakumar\\CV Projects\\Badminton Highlight Creation\\notShotVideoData\\YONEXFrenchOpen_1215.mp4\n",
      "\n"
     ]
    },
    {
     "name": "stderr",
     "output_type": "stream",
     "text": [
      "                                                               \r"
     ]
    },
    {
     "name": "stdout",
     "output_type": "stream",
     "text": [
      "Moviepy - Done !\n",
      "Moviepy - video ready C:\\Users\\chakumar\\CV Projects\\Badminton Highlight Creation\\notShotVideoData\\YONEXFrenchOpen_1215.mp4\n",
      "Moviepy - Building video C:\\Users\\chakumar\\CV Projects\\Badminton Highlight Creation\\notShotVideoData\\YONEXFrenchOpen_1255.mp4.\n",
      "MoviePy - Writing audio in YONEXFrenchOpen_1255TEMP_MPY_wvf_snd.mp3\n"
     ]
    },
    {
     "name": "stderr",
     "output_type": "stream",
     "text": [
      "                                                                   \r"
     ]
    },
    {
     "name": "stdout",
     "output_type": "stream",
     "text": [
      "MoviePy - Done.\n",
      "Moviepy - Writing video C:\\Users\\chakumar\\CV Projects\\Badminton Highlight Creation\\notShotVideoData\\YONEXFrenchOpen_1255.mp4\n",
      "\n"
     ]
    },
    {
     "name": "stderr",
     "output_type": "stream",
     "text": [
      "                                                               \r"
     ]
    },
    {
     "name": "stdout",
     "output_type": "stream",
     "text": [
      "Moviepy - Done !\n",
      "Moviepy - video ready C:\\Users\\chakumar\\CV Projects\\Badminton Highlight Creation\\notShotVideoData\\YONEXFrenchOpen_1255.mp4\n",
      "Moviepy - Building video C:\\Users\\chakumar\\CV Projects\\Badminton Highlight Creation\\notShotVideoData\\YONEXFrenchOpen_1314.mp4.\n",
      "MoviePy - Writing audio in YONEXFrenchOpen_1314TEMP_MPY_wvf_snd.mp3\n"
     ]
    },
    {
     "name": "stderr",
     "output_type": "stream",
     "text": [
      "                                                                  \r"
     ]
    },
    {
     "name": "stdout",
     "output_type": "stream",
     "text": [
      "MoviePy - Done.\n",
      "Moviepy - Writing video C:\\Users\\chakumar\\CV Projects\\Badminton Highlight Creation\\notShotVideoData\\YONEXFrenchOpen_1314.mp4\n",
      "\n"
     ]
    },
    {
     "name": "stderr",
     "output_type": "stream",
     "text": [
      "                                                               \r"
     ]
    },
    {
     "name": "stdout",
     "output_type": "stream",
     "text": [
      "Moviepy - Done !\n",
      "Moviepy - video ready C:\\Users\\chakumar\\CV Projects\\Badminton Highlight Creation\\notShotVideoData\\YONEXFrenchOpen_1314.mp4\n",
      "Moviepy - Building video C:\\Users\\chakumar\\CV Projects\\Badminton Highlight Creation\\notShotVideoData\\YONEXFrenchOpen_1353.mp4.\n",
      "MoviePy - Writing audio in YONEXFrenchOpen_1353TEMP_MPY_wvf_snd.mp3\n"
     ]
    },
    {
     "name": "stderr",
     "output_type": "stream",
     "text": [
      "                                                                   \r"
     ]
    },
    {
     "name": "stdout",
     "output_type": "stream",
     "text": [
      "MoviePy - Done.\n",
      "Moviepy - Writing video C:\\Users\\chakumar\\CV Projects\\Badminton Highlight Creation\\notShotVideoData\\YONEXFrenchOpen_1353.mp4\n",
      "\n"
     ]
    },
    {
     "name": "stderr",
     "output_type": "stream",
     "text": [
      "                                                               \r"
     ]
    },
    {
     "name": "stdout",
     "output_type": "stream",
     "text": [
      "Moviepy - Done !\n",
      "Moviepy - video ready C:\\Users\\chakumar\\CV Projects\\Badminton Highlight Creation\\notShotVideoData\\YONEXFrenchOpen_1353.mp4\n",
      "Moviepy - Building video C:\\Users\\chakumar\\CV Projects\\Badminton Highlight Creation\\notShotVideoData\\YONEXFrenchOpen_1393.mp4.\n",
      "MoviePy - Writing audio in YONEXFrenchOpen_1393TEMP_MPY_wvf_snd.mp3\n"
     ]
    },
    {
     "name": "stderr",
     "output_type": "stream",
     "text": [
      "                                                                   \r"
     ]
    },
    {
     "name": "stdout",
     "output_type": "stream",
     "text": [
      "MoviePy - Done.\n",
      "Moviepy - Writing video C:\\Users\\chakumar\\CV Projects\\Badminton Highlight Creation\\notShotVideoData\\YONEXFrenchOpen_1393.mp4\n",
      "\n"
     ]
    },
    {
     "name": "stderr",
     "output_type": "stream",
     "text": [
      "                                                               \r"
     ]
    },
    {
     "name": "stdout",
     "output_type": "stream",
     "text": [
      "Moviepy - Done !\n",
      "Moviepy - video ready C:\\Users\\chakumar\\CV Projects\\Badminton Highlight Creation\\notShotVideoData\\YONEXFrenchOpen_1393.mp4\n",
      "Moviepy - Building video C:\\Users\\chakumar\\CV Projects\\Badminton Highlight Creation\\notShotVideoData\\YONEXFrenchOpen_1424.mp4.\n",
      "MoviePy - Writing audio in YONEXFrenchOpen_1424TEMP_MPY_wvf_snd.mp3\n"
     ]
    },
    {
     "name": "stderr",
     "output_type": "stream",
     "text": [
      "                                                                   \r"
     ]
    },
    {
     "name": "stdout",
     "output_type": "stream",
     "text": [
      "MoviePy - Done.\n",
      "Moviepy - Writing video C:\\Users\\chakumar\\CV Projects\\Badminton Highlight Creation\\notShotVideoData\\YONEXFrenchOpen_1424.mp4\n",
      "\n"
     ]
    },
    {
     "name": "stderr",
     "output_type": "stream",
     "text": [
      "                                                              \r"
     ]
    },
    {
     "name": "stdout",
     "output_type": "stream",
     "text": [
      "Moviepy - Done !\n",
      "Moviepy - video ready C:\\Users\\chakumar\\CV Projects\\Badminton Highlight Creation\\notShotVideoData\\YONEXFrenchOpen_1424.mp4\n",
      "Moviepy - Building video C:\\Users\\chakumar\\CV Projects\\Badminton Highlight Creation\\notShotVideoData\\YONEXFrenchOpen_1468.mp4.\n",
      "MoviePy - Writing audio in YONEXFrenchOpen_1468TEMP_MPY_wvf_snd.mp3\n"
     ]
    },
    {
     "name": "stderr",
     "output_type": "stream",
     "text": [
      "                                                                  \r"
     ]
    },
    {
     "name": "stdout",
     "output_type": "stream",
     "text": [
      "MoviePy - Done.\n",
      "Moviepy - Writing video C:\\Users\\chakumar\\CV Projects\\Badminton Highlight Creation\\notShotVideoData\\YONEXFrenchOpen_1468.mp4\n",
      "\n"
     ]
    },
    {
     "name": "stderr",
     "output_type": "stream",
     "text": [
      "                                                               \r"
     ]
    },
    {
     "name": "stdout",
     "output_type": "stream",
     "text": [
      "Moviepy - Done !\n",
      "Moviepy - video ready C:\\Users\\chakumar\\CV Projects\\Badminton Highlight Creation\\notShotVideoData\\YONEXFrenchOpen_1468.mp4\n",
      "Moviepy - Building video C:\\Users\\chakumar\\CV Projects\\Badminton Highlight Creation\\notShotVideoData\\YONEXFrenchOpen_1500.mp4.\n",
      "MoviePy - Writing audio in YONEXFrenchOpen_1500TEMP_MPY_wvf_snd.mp3\n"
     ]
    },
    {
     "name": "stderr",
     "output_type": "stream",
     "text": [
      "                                                                  \r"
     ]
    },
    {
     "name": "stdout",
     "output_type": "stream",
     "text": [
      "MoviePy - Done.\n",
      "Moviepy - Writing video C:\\Users\\chakumar\\CV Projects\\Badminton Highlight Creation\\notShotVideoData\\YONEXFrenchOpen_1500.mp4\n",
      "\n"
     ]
    },
    {
     "name": "stderr",
     "output_type": "stream",
     "text": [
      "                                                               \r"
     ]
    },
    {
     "name": "stdout",
     "output_type": "stream",
     "text": [
      "Moviepy - Done !\n",
      "Moviepy - video ready C:\\Users\\chakumar\\CV Projects\\Badminton Highlight Creation\\notShotVideoData\\YONEXFrenchOpen_1500.mp4\n",
      "Moviepy - Building video C:\\Users\\chakumar\\CV Projects\\Badminton Highlight Creation\\notShotVideoData\\YONEXFrenchOpen_1534.mp4.\n",
      "MoviePy - Writing audio in YONEXFrenchOpen_1534TEMP_MPY_wvf_snd.mp3\n"
     ]
    },
    {
     "name": "stderr",
     "output_type": "stream",
     "text": [
      "                                                                  \r"
     ]
    },
    {
     "name": "stdout",
     "output_type": "stream",
     "text": [
      "MoviePy - Done.\n",
      "Moviepy - Writing video C:\\Users\\chakumar\\CV Projects\\Badminton Highlight Creation\\notShotVideoData\\YONEXFrenchOpen_1534.mp4\n",
      "\n"
     ]
    },
    {
     "name": "stderr",
     "output_type": "stream",
     "text": [
      "                                                               \r"
     ]
    },
    {
     "name": "stdout",
     "output_type": "stream",
     "text": [
      "Moviepy - Done !\n",
      "Moviepy - video ready C:\\Users\\chakumar\\CV Projects\\Badminton Highlight Creation\\notShotVideoData\\YONEXFrenchOpen_1534.mp4\n",
      "Moviepy - Building video C:\\Users\\chakumar\\CV Projects\\Badminton Highlight Creation\\notShotVideoData\\YONEXFrenchOpen_1569.mp4.\n",
      "MoviePy - Writing audio in YONEXFrenchOpen_1569TEMP_MPY_wvf_snd.mp3\n"
     ]
    },
    {
     "name": "stderr",
     "output_type": "stream",
     "text": [
      "                                                                 \r"
     ]
    },
    {
     "name": "stdout",
     "output_type": "stream",
     "text": [
      "MoviePy - Done.\n",
      "Moviepy - Writing video C:\\Users\\chakumar\\CV Projects\\Badminton Highlight Creation\\notShotVideoData\\YONEXFrenchOpen_1569.mp4\n",
      "\n"
     ]
    },
    {
     "name": "stderr",
     "output_type": "stream",
     "text": [
      "                                                               \r"
     ]
    },
    {
     "name": "stdout",
     "output_type": "stream",
     "text": [
      "Moviepy - Done !\n",
      "Moviepy - video ready C:\\Users\\chakumar\\CV Projects\\Badminton Highlight Creation\\notShotVideoData\\YONEXFrenchOpen_1569.mp4\n",
      "Moviepy - Building video C:\\Users\\chakumar\\CV Projects\\Badminton Highlight Creation\\notShotVideoData\\YONEXFrenchOpen_1597.mp4.\n",
      "MoviePy - Writing audio in YONEXFrenchOpen_1597TEMP_MPY_wvf_snd.mp3\n"
     ]
    },
    {
     "name": "stderr",
     "output_type": "stream",
     "text": [
      "                                                                  \r"
     ]
    },
    {
     "name": "stdout",
     "output_type": "stream",
     "text": [
      "MoviePy - Done.\n",
      "Moviepy - Writing video C:\\Users\\chakumar\\CV Projects\\Badminton Highlight Creation\\notShotVideoData\\YONEXFrenchOpen_1597.mp4\n",
      "\n"
     ]
    },
    {
     "name": "stderr",
     "output_type": "stream",
     "text": [
      "                                                               \r"
     ]
    },
    {
     "name": "stdout",
     "output_type": "stream",
     "text": [
      "Moviepy - Done !\n",
      "Moviepy - video ready C:\\Users\\chakumar\\CV Projects\\Badminton Highlight Creation\\notShotVideoData\\YONEXFrenchOpen_1597.mp4\n",
      "Moviepy - Building video C:\\Users\\chakumar\\CV Projects\\Badminton Highlight Creation\\notShotVideoData\\YONEXFrenchOpen_1625.mp4.\n",
      "MoviePy - Writing audio in YONEXFrenchOpen_1625TEMP_MPY_wvf_snd.mp3\n"
     ]
    },
    {
     "name": "stderr",
     "output_type": "stream",
     "text": [
      "                                                                   \r"
     ]
    },
    {
     "name": "stdout",
     "output_type": "stream",
     "text": [
      "MoviePy - Done.\n",
      "Moviepy - Writing video C:\\Users\\chakumar\\CV Projects\\Badminton Highlight Creation\\notShotVideoData\\YONEXFrenchOpen_1625.mp4\n",
      "\n"
     ]
    },
    {
     "name": "stderr",
     "output_type": "stream",
     "text": [
      "                                                               \r"
     ]
    },
    {
     "name": "stdout",
     "output_type": "stream",
     "text": [
      "Moviepy - Done !\n",
      "Moviepy - video ready C:\\Users\\chakumar\\CV Projects\\Badminton Highlight Creation\\notShotVideoData\\YONEXFrenchOpen_1625.mp4\n",
      "Moviepy - Building video C:\\Users\\chakumar\\CV Projects\\Badminton Highlight Creation\\notShotVideoData\\YONEXFrenchOpen_1659.mp4.\n",
      "MoviePy - Writing audio in YONEXFrenchOpen_1659TEMP_MPY_wvf_snd.mp3\n"
     ]
    },
    {
     "name": "stderr",
     "output_type": "stream",
     "text": [
      "                                                                   \r"
     ]
    },
    {
     "name": "stdout",
     "output_type": "stream",
     "text": [
      "MoviePy - Done.\n",
      "Moviepy - Writing video C:\\Users\\chakumar\\CV Projects\\Badminton Highlight Creation\\notShotVideoData\\YONEXFrenchOpen_1659.mp4\n",
      "\n"
     ]
    },
    {
     "name": "stderr",
     "output_type": "stream",
     "text": [
      "                                                               \r"
     ]
    },
    {
     "name": "stdout",
     "output_type": "stream",
     "text": [
      "Moviepy - Done !\n",
      "Moviepy - video ready C:\\Users\\chakumar\\CV Projects\\Badminton Highlight Creation\\notShotVideoData\\YONEXFrenchOpen_1659.mp4\n",
      "Moviepy - Building video C:\\Users\\chakumar\\CV Projects\\Badminton Highlight Creation\\notShotVideoData\\YONEXFrenchOpen_1696.mp4.\n",
      "MoviePy - Writing audio in YONEXFrenchOpen_1696TEMP_MPY_wvf_snd.mp3\n"
     ]
    },
    {
     "name": "stderr",
     "output_type": "stream",
     "text": [
      "                                                                   \r"
     ]
    },
    {
     "name": "stdout",
     "output_type": "stream",
     "text": [
      "MoviePy - Done.\n",
      "Moviepy - Writing video C:\\Users\\chakumar\\CV Projects\\Badminton Highlight Creation\\notShotVideoData\\YONEXFrenchOpen_1696.mp4\n",
      "\n"
     ]
    },
    {
     "name": "stderr",
     "output_type": "stream",
     "text": [
      "                                                               \r"
     ]
    },
    {
     "name": "stdout",
     "output_type": "stream",
     "text": [
      "Moviepy - Done !\n",
      "Moviepy - video ready C:\\Users\\chakumar\\CV Projects\\Badminton Highlight Creation\\notShotVideoData\\YONEXFrenchOpen_1696.mp4\n",
      "Moviepy - Building video C:\\Users\\chakumar\\CV Projects\\Badminton Highlight Creation\\notShotVideoData\\YONEXFrenchOpen_1730.mp4.\n",
      "MoviePy - Writing audio in YONEXFrenchOpen_1730TEMP_MPY_wvf_snd.mp3\n"
     ]
    },
    {
     "name": "stderr",
     "output_type": "stream",
     "text": [
      "                                                                   \r"
     ]
    },
    {
     "name": "stdout",
     "output_type": "stream",
     "text": [
      "MoviePy - Done.\n",
      "Moviepy - Writing video C:\\Users\\chakumar\\CV Projects\\Badminton Highlight Creation\\notShotVideoData\\YONEXFrenchOpen_1730.mp4\n",
      "\n"
     ]
    },
    {
     "name": "stderr",
     "output_type": "stream",
     "text": [
      "                                                               \r"
     ]
    },
    {
     "name": "stdout",
     "output_type": "stream",
     "text": [
      "Moviepy - Done !\n",
      "Moviepy - video ready C:\\Users\\chakumar\\CV Projects\\Badminton Highlight Creation\\notShotVideoData\\YONEXFrenchOpen_1730.mp4\n",
      "Moviepy - Building video C:\\Users\\chakumar\\CV Projects\\Badminton Highlight Creation\\notShotVideoData\\YONEXFrenchOpen_1881.mp4.\n",
      "MoviePy - Writing audio in YONEXFrenchOpen_1881TEMP_MPY_wvf_snd.mp3\n"
     ]
    },
    {
     "name": "stderr",
     "output_type": "stream",
     "text": [
      "                                                                   \r"
     ]
    },
    {
     "name": "stdout",
     "output_type": "stream",
     "text": [
      "MoviePy - Done.\n",
      "Moviepy - Writing video C:\\Users\\chakumar\\CV Projects\\Badminton Highlight Creation\\notShotVideoData\\YONEXFrenchOpen_1881.mp4\n",
      "\n"
     ]
    },
    {
     "name": "stderr",
     "output_type": "stream",
     "text": [
      "                                                               \r"
     ]
    },
    {
     "name": "stdout",
     "output_type": "stream",
     "text": [
      "Moviepy - Done !\n",
      "Moviepy - video ready C:\\Users\\chakumar\\CV Projects\\Badminton Highlight Creation\\notShotVideoData\\YONEXFrenchOpen_1881.mp4\n",
      "Moviepy - Building video C:\\Users\\chakumar\\CV Projects\\Badminton Highlight Creation\\notShotVideoData\\YONEXFrenchOpen_1924.mp4.\n",
      "MoviePy - Writing audio in YONEXFrenchOpen_1924TEMP_MPY_wvf_snd.mp3\n"
     ]
    },
    {
     "name": "stderr",
     "output_type": "stream",
     "text": [
      "                                                                   \r"
     ]
    },
    {
     "name": "stdout",
     "output_type": "stream",
     "text": [
      "MoviePy - Done.\n",
      "Moviepy - Writing video C:\\Users\\chakumar\\CV Projects\\Badminton Highlight Creation\\notShotVideoData\\YONEXFrenchOpen_1924.mp4\n",
      "\n"
     ]
    },
    {
     "name": "stderr",
     "output_type": "stream",
     "text": [
      "                                                               \r"
     ]
    },
    {
     "name": "stdout",
     "output_type": "stream",
     "text": [
      "Moviepy - Done !\n",
      "Moviepy - video ready C:\\Users\\chakumar\\CV Projects\\Badminton Highlight Creation\\notShotVideoData\\YONEXFrenchOpen_1924.mp4\n",
      "Moviepy - Building video C:\\Users\\chakumar\\CV Projects\\Badminton Highlight Creation\\notShotVideoData\\YONEXFrenchOpen_1954.mp4.\n",
      "MoviePy - Writing audio in YONEXFrenchOpen_1954TEMP_MPY_wvf_snd.mp3\n"
     ]
    },
    {
     "name": "stderr",
     "output_type": "stream",
     "text": [
      "                                                                  \r"
     ]
    },
    {
     "name": "stdout",
     "output_type": "stream",
     "text": [
      "MoviePy - Done.\n",
      "Moviepy - Writing video C:\\Users\\chakumar\\CV Projects\\Badminton Highlight Creation\\notShotVideoData\\YONEXFrenchOpen_1954.mp4\n",
      "\n"
     ]
    },
    {
     "name": "stderr",
     "output_type": "stream",
     "text": [
      "                                                               \r"
     ]
    },
    {
     "name": "stdout",
     "output_type": "stream",
     "text": [
      "Moviepy - Done !\n",
      "Moviepy - video ready C:\\Users\\chakumar\\CV Projects\\Badminton Highlight Creation\\notShotVideoData\\YONEXFrenchOpen_1954.mp4\n",
      "Moviepy - Building video C:\\Users\\chakumar\\CV Projects\\Badminton Highlight Creation\\notShotVideoData\\YONEXFrenchOpen_1988.mp4.\n",
      "MoviePy - Writing audio in YONEXFrenchOpen_1988TEMP_MPY_wvf_snd.mp3\n"
     ]
    },
    {
     "name": "stderr",
     "output_type": "stream",
     "text": [
      "                                                                  \r"
     ]
    },
    {
     "name": "stdout",
     "output_type": "stream",
     "text": [
      "MoviePy - Done.\n",
      "Moviepy - Writing video C:\\Users\\chakumar\\CV Projects\\Badminton Highlight Creation\\notShotVideoData\\YONEXFrenchOpen_1988.mp4\n",
      "\n"
     ]
    },
    {
     "name": "stderr",
     "output_type": "stream",
     "text": [
      "                                                              \r"
     ]
    },
    {
     "name": "stdout",
     "output_type": "stream",
     "text": [
      "Moviepy - Done !\n",
      "Moviepy - video ready C:\\Users\\chakumar\\CV Projects\\Badminton Highlight Creation\\notShotVideoData\\YONEXFrenchOpen_1988.mp4\n",
      "Moviepy - Building video C:\\Users\\chakumar\\CV Projects\\Badminton Highlight Creation\\notShotVideoData\\YONEXFrenchOpen_2019.mp4.\n",
      "MoviePy - Writing audio in YONEXFrenchOpen_2019TEMP_MPY_wvf_snd.mp3\n"
     ]
    },
    {
     "name": "stderr",
     "output_type": "stream",
     "text": [
      "                                                                  \r"
     ]
    },
    {
     "name": "stdout",
     "output_type": "stream",
     "text": [
      "MoviePy - Done.\n",
      "Moviepy - Writing video C:\\Users\\chakumar\\CV Projects\\Badminton Highlight Creation\\notShotVideoData\\YONEXFrenchOpen_2019.mp4\n",
      "\n"
     ]
    },
    {
     "name": "stderr",
     "output_type": "stream",
     "text": [
      "                                                               \r"
     ]
    },
    {
     "name": "stdout",
     "output_type": "stream",
     "text": [
      "Moviepy - Done !\n",
      "Moviepy - video ready C:\\Users\\chakumar\\CV Projects\\Badminton Highlight Creation\\notShotVideoData\\YONEXFrenchOpen_2019.mp4\n",
      "Moviepy - Building video C:\\Users\\chakumar\\CV Projects\\Badminton Highlight Creation\\notShotVideoData\\YONEXFrenchOpen_2054.mp4.\n",
      "MoviePy - Writing audio in YONEXFrenchOpen_2054TEMP_MPY_wvf_snd.mp3\n"
     ]
    },
    {
     "name": "stderr",
     "output_type": "stream",
     "text": [
      "                                                                  \r"
     ]
    },
    {
     "name": "stdout",
     "output_type": "stream",
     "text": [
      "MoviePy - Done.\n",
      "Moviepy - Writing video C:\\Users\\chakumar\\CV Projects\\Badminton Highlight Creation\\notShotVideoData\\YONEXFrenchOpen_2054.mp4\n",
      "\n"
     ]
    },
    {
     "name": "stderr",
     "output_type": "stream",
     "text": [
      "                                                               \r"
     ]
    },
    {
     "name": "stdout",
     "output_type": "stream",
     "text": [
      "Moviepy - Done !\n",
      "Moviepy - video ready C:\\Users\\chakumar\\CV Projects\\Badminton Highlight Creation\\notShotVideoData\\YONEXFrenchOpen_2054.mp4\n",
      "Moviepy - Building video C:\\Users\\chakumar\\CV Projects\\Badminton Highlight Creation\\notShotVideoData\\YONEXFrenchOpen_2106.mp4.\n",
      "MoviePy - Writing audio in YONEXFrenchOpen_2106TEMP_MPY_wvf_snd.mp3\n"
     ]
    },
    {
     "name": "stderr",
     "output_type": "stream",
     "text": [
      "                                                                   \r"
     ]
    },
    {
     "name": "stdout",
     "output_type": "stream",
     "text": [
      "MoviePy - Done.\n",
      "Moviepy - Writing video C:\\Users\\chakumar\\CV Projects\\Badminton Highlight Creation\\notShotVideoData\\YONEXFrenchOpen_2106.mp4\n",
      "\n"
     ]
    },
    {
     "name": "stderr",
     "output_type": "stream",
     "text": [
      "                                                               \r"
     ]
    },
    {
     "name": "stdout",
     "output_type": "stream",
     "text": [
      "Moviepy - Done !\n",
      "Moviepy - video ready C:\\Users\\chakumar\\CV Projects\\Badminton Highlight Creation\\notShotVideoData\\YONEXFrenchOpen_2106.mp4\n",
      "Moviepy - Building video C:\\Users\\chakumar\\CV Projects\\Badminton Highlight Creation\\notShotVideoData\\YONEXFrenchOpen_2153.mp4.\n",
      "MoviePy - Writing audio in YONEXFrenchOpen_2153TEMP_MPY_wvf_snd.mp3\n"
     ]
    },
    {
     "name": "stderr",
     "output_type": "stream",
     "text": [
      "                                                                   \r"
     ]
    },
    {
     "name": "stdout",
     "output_type": "stream",
     "text": [
      "MoviePy - Done.\n",
      "Moviepy - Writing video C:\\Users\\chakumar\\CV Projects\\Badminton Highlight Creation\\notShotVideoData\\YONEXFrenchOpen_2153.mp4\n",
      "\n"
     ]
    },
    {
     "name": "stderr",
     "output_type": "stream",
     "text": [
      "                                                               \r"
     ]
    },
    {
     "name": "stdout",
     "output_type": "stream",
     "text": [
      "Moviepy - Done !\n",
      "Moviepy - video ready C:\\Users\\chakumar\\CV Projects\\Badminton Highlight Creation\\notShotVideoData\\YONEXFrenchOpen_2153.mp4\n",
      "Moviepy - Building video C:\\Users\\chakumar\\CV Projects\\Badminton Highlight Creation\\notShotVideoData\\YONEXFrenchOpen_2203.mp4.\n",
      "MoviePy - Writing audio in YONEXFrenchOpen_2203TEMP_MPY_wvf_snd.mp3\n"
     ]
    },
    {
     "name": "stderr",
     "output_type": "stream",
     "text": [
      "                                                                  \r"
     ]
    },
    {
     "name": "stdout",
     "output_type": "stream",
     "text": [
      "MoviePy - Done.\n",
      "Moviepy - Writing video C:\\Users\\chakumar\\CV Projects\\Badminton Highlight Creation\\notShotVideoData\\YONEXFrenchOpen_2203.mp4\n",
      "\n"
     ]
    },
    {
     "name": "stderr",
     "output_type": "stream",
     "text": [
      "                                                               \r"
     ]
    },
    {
     "name": "stdout",
     "output_type": "stream",
     "text": [
      "Moviepy - Done !\n",
      "Moviepy - video ready C:\\Users\\chakumar\\CV Projects\\Badminton Highlight Creation\\notShotVideoData\\YONEXFrenchOpen_2203.mp4\n",
      "Moviepy - Building video C:\\Users\\chakumar\\CV Projects\\Badminton Highlight Creation\\notShotVideoData\\YONEXFrenchOpen_2259.mp4.\n",
      "MoviePy - Writing audio in YONEXFrenchOpen_2259TEMP_MPY_wvf_snd.mp3\n"
     ]
    },
    {
     "name": "stderr",
     "output_type": "stream",
     "text": [
      "                                                                   \r"
     ]
    },
    {
     "name": "stdout",
     "output_type": "stream",
     "text": [
      "MoviePy - Done.\n",
      "Moviepy - Writing video C:\\Users\\chakumar\\CV Projects\\Badminton Highlight Creation\\notShotVideoData\\YONEXFrenchOpen_2259.mp4\n",
      "\n"
     ]
    },
    {
     "name": "stderr",
     "output_type": "stream",
     "text": [
      "                                                               \r"
     ]
    },
    {
     "name": "stdout",
     "output_type": "stream",
     "text": [
      "Moviepy - Done !\n",
      "Moviepy - video ready C:\\Users\\chakumar\\CV Projects\\Badminton Highlight Creation\\notShotVideoData\\YONEXFrenchOpen_2259.mp4\n",
      "Moviepy - Building video C:\\Users\\chakumar\\CV Projects\\Badminton Highlight Creation\\notShotVideoData\\YONEXFrenchOpen_2299.mp4.\n",
      "MoviePy - Writing audio in YONEXFrenchOpen_2299TEMP_MPY_wvf_snd.mp3\n"
     ]
    },
    {
     "name": "stderr",
     "output_type": "stream",
     "text": [
      "                                                                   \r"
     ]
    },
    {
     "name": "stdout",
     "output_type": "stream",
     "text": [
      "MoviePy - Done.\n",
      "Moviepy - Writing video C:\\Users\\chakumar\\CV Projects\\Badminton Highlight Creation\\notShotVideoData\\YONEXFrenchOpen_2299.mp4\n",
      "\n"
     ]
    },
    {
     "name": "stderr",
     "output_type": "stream",
     "text": [
      "                                                               \r"
     ]
    },
    {
     "name": "stdout",
     "output_type": "stream",
     "text": [
      "Moviepy - Done !\n",
      "Moviepy - video ready C:\\Users\\chakumar\\CV Projects\\Badminton Highlight Creation\\notShotVideoData\\YONEXFrenchOpen_2299.mp4\n",
      "Moviepy - Building video C:\\Users\\chakumar\\CV Projects\\Badminton Highlight Creation\\notShotVideoData\\YONEXFrenchOpen_2356.mp4.\n",
      "MoviePy - Writing audio in YONEXFrenchOpen_2356TEMP_MPY_wvf_snd.mp3\n"
     ]
    },
    {
     "name": "stderr",
     "output_type": "stream",
     "text": [
      "                                                                   \r"
     ]
    },
    {
     "name": "stdout",
     "output_type": "stream",
     "text": [
      "MoviePy - Done.\n",
      "Moviepy - Writing video C:\\Users\\chakumar\\CV Projects\\Badminton Highlight Creation\\notShotVideoData\\YONEXFrenchOpen_2356.mp4\n",
      "\n"
     ]
    },
    {
     "name": "stderr",
     "output_type": "stream",
     "text": [
      "                                                               \r"
     ]
    },
    {
     "name": "stdout",
     "output_type": "stream",
     "text": [
      "Moviepy - Done !\n",
      "Moviepy - video ready C:\\Users\\chakumar\\CV Projects\\Badminton Highlight Creation\\notShotVideoData\\YONEXFrenchOpen_2356.mp4\n",
      "Moviepy - Building video C:\\Users\\chakumar\\CV Projects\\Badminton Highlight Creation\\notShotVideoData\\YONEXFrenchOpen_2390.mp4.\n",
      "MoviePy - Writing audio in YONEXFrenchOpen_2390TEMP_MPY_wvf_snd.mp3\n"
     ]
    },
    {
     "name": "stderr",
     "output_type": "stream",
     "text": [
      "                                                                \r"
     ]
    },
    {
     "name": "stdout",
     "output_type": "stream",
     "text": [
      "MoviePy - Done.\n",
      "Moviepy - Writing video C:\\Users\\chakumar\\CV Projects\\Badminton Highlight Creation\\notShotVideoData\\YONEXFrenchOpen_2390.mp4\n",
      "\n"
     ]
    },
    {
     "name": "stderr",
     "output_type": "stream",
     "text": [
      "                                                               \r"
     ]
    },
    {
     "name": "stdout",
     "output_type": "stream",
     "text": [
      "Moviepy - Done !\n",
      "Moviepy - video ready C:\\Users\\chakumar\\CV Projects\\Badminton Highlight Creation\\notShotVideoData\\YONEXFrenchOpen_2390.mp4\n",
      "Moviepy - Building video C:\\Users\\chakumar\\CV Projects\\Badminton Highlight Creation\\notShotVideoData\\YONEXFrenchOpen_2436.mp4.\n",
      "MoviePy - Writing audio in YONEXFrenchOpen_2436TEMP_MPY_wvf_snd.mp3\n"
     ]
    },
    {
     "name": "stderr",
     "output_type": "stream",
     "text": [
      "                                                                \r"
     ]
    },
    {
     "name": "stdout",
     "output_type": "stream",
     "text": [
      "MoviePy - Done.\n",
      "Moviepy - Writing video C:\\Users\\chakumar\\CV Projects\\Badminton Highlight Creation\\notShotVideoData\\YONEXFrenchOpen_2436.mp4\n",
      "\n"
     ]
    },
    {
     "name": "stderr",
     "output_type": "stream",
     "text": [
      "                                                               \r"
     ]
    },
    {
     "name": "stdout",
     "output_type": "stream",
     "text": [
      "Moviepy - Done !\n",
      "Moviepy - video ready C:\\Users\\chakumar\\CV Projects\\Badminton Highlight Creation\\notShotVideoData\\YONEXFrenchOpen_2436.mp4\n",
      "Moviepy - Building video C:\\Users\\chakumar\\CV Projects\\Badminton Highlight Creation\\notShotVideoData\\YONEXFrenchOpen_2470.mp4.\n",
      "MoviePy - Writing audio in YONEXFrenchOpen_2470TEMP_MPY_wvf_snd.mp3\n"
     ]
    },
    {
     "name": "stderr",
     "output_type": "stream",
     "text": [
      "                                                                \r"
     ]
    },
    {
     "name": "stdout",
     "output_type": "stream",
     "text": [
      "MoviePy - Done.\n",
      "Moviepy - Writing video C:\\Users\\chakumar\\CV Projects\\Badminton Highlight Creation\\notShotVideoData\\YONEXFrenchOpen_2470.mp4\n",
      "\n"
     ]
    },
    {
     "name": "stderr",
     "output_type": "stream",
     "text": [
      "                                                               \r"
     ]
    },
    {
     "name": "stdout",
     "output_type": "stream",
     "text": [
      "Moviepy - Done !\n",
      "Moviepy - video ready C:\\Users\\chakumar\\CV Projects\\Badminton Highlight Creation\\notShotVideoData\\YONEXFrenchOpen_2470.mp4\n",
      "Moviepy - Building video C:\\Users\\chakumar\\CV Projects\\Badminton Highlight Creation\\notShotVideoData\\YONEXFrenchOpen_2570.mp4.\n",
      "MoviePy - Writing audio in YONEXFrenchOpen_2570TEMP_MPY_wvf_snd.mp3\n"
     ]
    },
    {
     "name": "stderr",
     "output_type": "stream",
     "text": [
      "                                                                \r"
     ]
    },
    {
     "name": "stdout",
     "output_type": "stream",
     "text": [
      "MoviePy - Done.\n",
      "Moviepy - Writing video C:\\Users\\chakumar\\CV Projects\\Badminton Highlight Creation\\notShotVideoData\\YONEXFrenchOpen_2570.mp4\n",
      "\n"
     ]
    },
    {
     "name": "stderr",
     "output_type": "stream",
     "text": [
      "                                                               \r"
     ]
    },
    {
     "name": "stdout",
     "output_type": "stream",
     "text": [
      "Moviepy - Done !\n",
      "Moviepy - video ready C:\\Users\\chakumar\\CV Projects\\Badminton Highlight Creation\\notShotVideoData\\YONEXFrenchOpen_2570.mp4\n",
      "Moviepy - Building video C:\\Users\\chakumar\\CV Projects\\Badminton Highlight Creation\\notShotVideoData\\YONEXFrenchOpen_2597.mp4.\n",
      "MoviePy - Writing audio in YONEXFrenchOpen_2597TEMP_MPY_wvf_snd.mp3\n"
     ]
    },
    {
     "name": "stderr",
     "output_type": "stream",
     "text": [
      "                                                                \r"
     ]
    },
    {
     "name": "stdout",
     "output_type": "stream",
     "text": [
      "MoviePy - Done.\n",
      "Moviepy - Writing video C:\\Users\\chakumar\\CV Projects\\Badminton Highlight Creation\\notShotVideoData\\YONEXFrenchOpen_2597.mp4\n",
      "\n"
     ]
    },
    {
     "name": "stderr",
     "output_type": "stream",
     "text": [
      "                                                               \r"
     ]
    },
    {
     "name": "stdout",
     "output_type": "stream",
     "text": [
      "Moviepy - Done !\n",
      "Moviepy - video ready C:\\Users\\chakumar\\CV Projects\\Badminton Highlight Creation\\notShotVideoData\\YONEXFrenchOpen_2597.mp4\n",
      "Moviepy - Building video C:\\Users\\chakumar\\CV Projects\\Badminton Highlight Creation\\notShotVideoData\\YONEXFrenchOpen_2630.mp4.\n",
      "MoviePy - Writing audio in YONEXFrenchOpen_2630TEMP_MPY_wvf_snd.mp3\n"
     ]
    },
    {
     "name": "stderr",
     "output_type": "stream",
     "text": [
      "                                                                \r"
     ]
    },
    {
     "name": "stdout",
     "output_type": "stream",
     "text": [
      "MoviePy - Done.\n",
      "Moviepy - Writing video C:\\Users\\chakumar\\CV Projects\\Badminton Highlight Creation\\notShotVideoData\\YONEXFrenchOpen_2630.mp4\n",
      "\n"
     ]
    },
    {
     "name": "stderr",
     "output_type": "stream",
     "text": [
      "                                                               \r"
     ]
    },
    {
     "name": "stdout",
     "output_type": "stream",
     "text": [
      "Moviepy - Done !\n",
      "Moviepy - video ready C:\\Users\\chakumar\\CV Projects\\Badminton Highlight Creation\\notShotVideoData\\YONEXFrenchOpen_2630.mp4\n",
      "Moviepy - Building video C:\\Users\\chakumar\\CV Projects\\Badminton Highlight Creation\\notShotVideoData\\YONEXFrenchOpen_2671.mp4.\n",
      "MoviePy - Writing audio in YONEXFrenchOpen_2671TEMP_MPY_wvf_snd.mp3\n"
     ]
    },
    {
     "name": "stderr",
     "output_type": "stream",
     "text": [
      "                                                                \r"
     ]
    },
    {
     "name": "stdout",
     "output_type": "stream",
     "text": [
      "MoviePy - Done.\n",
      "Moviepy - Writing video C:\\Users\\chakumar\\CV Projects\\Badminton Highlight Creation\\notShotVideoData\\YONEXFrenchOpen_2671.mp4\n",
      "\n"
     ]
    },
    {
     "name": "stderr",
     "output_type": "stream",
     "text": [
      "                                                               \r"
     ]
    },
    {
     "name": "stdout",
     "output_type": "stream",
     "text": [
      "Moviepy - Done !\n",
      "Moviepy - video ready C:\\Users\\chakumar\\CV Projects\\Badminton Highlight Creation\\notShotVideoData\\YONEXFrenchOpen_2671.mp4\n",
      "Moviepy - Building video C:\\Users\\chakumar\\CV Projects\\Badminton Highlight Creation\\notShotVideoData\\YONEXFrenchOpen_2699.mp4.\n",
      "MoviePy - Writing audio in YONEXFrenchOpen_2699TEMP_MPY_wvf_snd.mp3\n"
     ]
    },
    {
     "name": "stderr",
     "output_type": "stream",
     "text": [
      "                                                                \r"
     ]
    },
    {
     "name": "stdout",
     "output_type": "stream",
     "text": [
      "MoviePy - Done.\n",
      "Moviepy - Writing video C:\\Users\\chakumar\\CV Projects\\Badminton Highlight Creation\\notShotVideoData\\YONEXFrenchOpen_2699.mp4\n",
      "\n"
     ]
    },
    {
     "name": "stderr",
     "output_type": "stream",
     "text": [
      "                                                               \r"
     ]
    },
    {
     "name": "stdout",
     "output_type": "stream",
     "text": [
      "Moviepy - Done !\n",
      "Moviepy - video ready C:\\Users\\chakumar\\CV Projects\\Badminton Highlight Creation\\notShotVideoData\\YONEXFrenchOpen_2699.mp4\n",
      "Moviepy - Building video C:\\Users\\chakumar\\CV Projects\\Badminton Highlight Creation\\notShotVideoData\\YONEXFrenchOpen_2728.mp4.\n",
      "MoviePy - Writing audio in YONEXFrenchOpen_2728TEMP_MPY_wvf_snd.mp3\n"
     ]
    },
    {
     "name": "stderr",
     "output_type": "stream",
     "text": [
      "                                                                \r"
     ]
    },
    {
     "name": "stdout",
     "output_type": "stream",
     "text": [
      "MoviePy - Done.\n",
      "Moviepy - Writing video C:\\Users\\chakumar\\CV Projects\\Badminton Highlight Creation\\notShotVideoData\\YONEXFrenchOpen_2728.mp4\n",
      "\n"
     ]
    },
    {
     "name": "stderr",
     "output_type": "stream",
     "text": [
      "                                                               \r"
     ]
    },
    {
     "name": "stdout",
     "output_type": "stream",
     "text": [
      "Moviepy - Done !\n",
      "Moviepy - video ready C:\\Users\\chakumar\\CV Projects\\Badminton Highlight Creation\\notShotVideoData\\YONEXFrenchOpen_2728.mp4\n",
      "Moviepy - Building video C:\\Users\\chakumar\\CV Projects\\Badminton Highlight Creation\\notShotVideoData\\YONEXFrenchOpen_2770.mp4.\n",
      "MoviePy - Writing audio in YONEXFrenchOpen_2770TEMP_MPY_wvf_snd.mp3\n"
     ]
    },
    {
     "name": "stderr",
     "output_type": "stream",
     "text": [
      "                                                                \r"
     ]
    },
    {
     "name": "stdout",
     "output_type": "stream",
     "text": [
      "MoviePy - Done.\n",
      "Moviepy - Writing video C:\\Users\\chakumar\\CV Projects\\Badminton Highlight Creation\\notShotVideoData\\YONEXFrenchOpen_2770.mp4\n",
      "\n"
     ]
    },
    {
     "name": "stderr",
     "output_type": "stream",
     "text": [
      "                                                               \r"
     ]
    },
    {
     "name": "stdout",
     "output_type": "stream",
     "text": [
      "Moviepy - Done !\n",
      "Moviepy - video ready C:\\Users\\chakumar\\CV Projects\\Badminton Highlight Creation\\notShotVideoData\\YONEXFrenchOpen_2770.mp4\n",
      "Moviepy - Building video C:\\Users\\chakumar\\CV Projects\\Badminton Highlight Creation\\notShotVideoData\\YONEXFrenchOpen_2809.mp4.\n",
      "MoviePy - Writing audio in YONEXFrenchOpen_2809TEMP_MPY_wvf_snd.mp3\n"
     ]
    },
    {
     "name": "stderr",
     "output_type": "stream",
     "text": [
      "                                                                \r"
     ]
    },
    {
     "name": "stdout",
     "output_type": "stream",
     "text": [
      "MoviePy - Done.\n",
      "Moviepy - Writing video C:\\Users\\chakumar\\CV Projects\\Badminton Highlight Creation\\notShotVideoData\\YONEXFrenchOpen_2809.mp4\n",
      "\n"
     ]
    },
    {
     "name": "stderr",
     "output_type": "stream",
     "text": [
      "                                                               \r"
     ]
    },
    {
     "name": "stdout",
     "output_type": "stream",
     "text": [
      "Moviepy - Done !\n",
      "Moviepy - video ready C:\\Users\\chakumar\\CV Projects\\Badminton Highlight Creation\\notShotVideoData\\YONEXFrenchOpen_2809.mp4\n",
      "Moviepy - Building video C:\\Users\\chakumar\\CV Projects\\Badminton Highlight Creation\\notShotVideoData\\YONEXFrenchOpen_2845.mp4.\n",
      "MoviePy - Writing audio in YONEXFrenchOpen_2845TEMP_MPY_wvf_snd.mp3\n"
     ]
    },
    {
     "name": "stderr",
     "output_type": "stream",
     "text": [
      "                                                                \r"
     ]
    },
    {
     "name": "stdout",
     "output_type": "stream",
     "text": [
      "MoviePy - Done.\n",
      "Moviepy - Writing video C:\\Users\\chakumar\\CV Projects\\Badminton Highlight Creation\\notShotVideoData\\YONEXFrenchOpen_2845.mp4\n",
      "\n"
     ]
    },
    {
     "name": "stderr",
     "output_type": "stream",
     "text": [
      "                                                               \r"
     ]
    },
    {
     "name": "stdout",
     "output_type": "stream",
     "text": [
      "Moviepy - Done !\n",
      "Moviepy - video ready C:\\Users\\chakumar\\CV Projects\\Badminton Highlight Creation\\notShotVideoData\\YONEXFrenchOpen_2845.mp4\n",
      "Moviepy - Building video C:\\Users\\chakumar\\CV Projects\\Badminton Highlight Creation\\notShotVideoData\\YONEXFrenchOpen_2907.mp4.\n",
      "MoviePy - Writing audio in YONEXFrenchOpen_2907TEMP_MPY_wvf_snd.mp3\n"
     ]
    },
    {
     "name": "stderr",
     "output_type": "stream",
     "text": [
      "                                                                \r"
     ]
    },
    {
     "name": "stdout",
     "output_type": "stream",
     "text": [
      "MoviePy - Done.\n",
      "Moviepy - Writing video C:\\Users\\chakumar\\CV Projects\\Badminton Highlight Creation\\notShotVideoData\\YONEXFrenchOpen_2907.mp4\n",
      "\n"
     ]
    },
    {
     "name": "stderr",
     "output_type": "stream",
     "text": [
      "                                                               \r"
     ]
    },
    {
     "name": "stdout",
     "output_type": "stream",
     "text": [
      "Moviepy - Done !\n",
      "Moviepy - video ready C:\\Users\\chakumar\\CV Projects\\Badminton Highlight Creation\\notShotVideoData\\YONEXFrenchOpen_2907.mp4\n",
      "Moviepy - Building video C:\\Users\\chakumar\\CV Projects\\Badminton Highlight Creation\\notShotVideoData\\YONEXFrenchOpen_2931.mp4.\n",
      "MoviePy - Writing audio in YONEXFrenchOpen_2931TEMP_MPY_wvf_snd.mp3\n"
     ]
    },
    {
     "name": "stderr",
     "output_type": "stream",
     "text": [
      "                                                                \r"
     ]
    },
    {
     "name": "stdout",
     "output_type": "stream",
     "text": [
      "MoviePy - Done.\n",
      "Moviepy - Writing video C:\\Users\\chakumar\\CV Projects\\Badminton Highlight Creation\\notShotVideoData\\YONEXFrenchOpen_2931.mp4\n",
      "\n"
     ]
    },
    {
     "name": "stderr",
     "output_type": "stream",
     "text": [
      "                                                               \r"
     ]
    },
    {
     "name": "stdout",
     "output_type": "stream",
     "text": [
      "Moviepy - Done !\n",
      "Moviepy - video ready C:\\Users\\chakumar\\CV Projects\\Badminton Highlight Creation\\notShotVideoData\\YONEXFrenchOpen_2931.mp4\n",
      "Moviepy - Building video C:\\Users\\chakumar\\CV Projects\\Badminton Highlight Creation\\notShotVideoData\\YONEXFrenchOpen_2963.mp4.\n",
      "MoviePy - Writing audio in YONEXFrenchOpen_2963TEMP_MPY_wvf_snd.mp3\n"
     ]
    },
    {
     "name": "stderr",
     "output_type": "stream",
     "text": [
      "                                                                \r"
     ]
    },
    {
     "name": "stdout",
     "output_type": "stream",
     "text": [
      "MoviePy - Done.\n",
      "Moviepy - Writing video C:\\Users\\chakumar\\CV Projects\\Badminton Highlight Creation\\notShotVideoData\\YONEXFrenchOpen_2963.mp4\n",
      "\n"
     ]
    },
    {
     "name": "stderr",
     "output_type": "stream",
     "text": [
      "                                                               \r"
     ]
    },
    {
     "name": "stdout",
     "output_type": "stream",
     "text": [
      "Moviepy - Done !\n",
      "Moviepy - video ready C:\\Users\\chakumar\\CV Projects\\Badminton Highlight Creation\\notShotVideoData\\YONEXFrenchOpen_2963.mp4\n",
      "Moviepy - Building video C:\\Users\\chakumar\\CV Projects\\Badminton Highlight Creation\\notShotVideoData\\YONEXFrenchOpen_3028.mp4.\n",
      "MoviePy - Writing audio in YONEXFrenchOpen_3028TEMP_MPY_wvf_snd.mp3\n"
     ]
    },
    {
     "name": "stderr",
     "output_type": "stream",
     "text": [
      "                                                                \r"
     ]
    },
    {
     "name": "stdout",
     "output_type": "stream",
     "text": [
      "MoviePy - Done.\n",
      "Moviepy - Writing video C:\\Users\\chakumar\\CV Projects\\Badminton Highlight Creation\\notShotVideoData\\YONEXFrenchOpen_3028.mp4\n",
      "\n"
     ]
    },
    {
     "name": "stderr",
     "output_type": "stream",
     "text": [
      "                                                               \r"
     ]
    },
    {
     "name": "stdout",
     "output_type": "stream",
     "text": [
      "Moviepy - Done !\n",
      "Moviepy - video ready C:\\Users\\chakumar\\CV Projects\\Badminton Highlight Creation\\notShotVideoData\\YONEXFrenchOpen_3028.mp4\n",
      "Moviepy - Building video C:\\Users\\chakumar\\CV Projects\\Badminton Highlight Creation\\notShotVideoData\\YONEXFrenchOpen_3059.mp4.\n",
      "MoviePy - Writing audio in YONEXFrenchOpen_3059TEMP_MPY_wvf_snd.mp3\n"
     ]
    },
    {
     "name": "stderr",
     "output_type": "stream",
     "text": [
      "                                                                \r"
     ]
    },
    {
     "name": "stdout",
     "output_type": "stream",
     "text": [
      "MoviePy - Done.\n",
      "Moviepy - Writing video C:\\Users\\chakumar\\CV Projects\\Badminton Highlight Creation\\notShotVideoData\\YONEXFrenchOpen_3059.mp4\n",
      "\n"
     ]
    },
    {
     "name": "stderr",
     "output_type": "stream",
     "text": [
      "                                                               \r"
     ]
    },
    {
     "name": "stdout",
     "output_type": "stream",
     "text": [
      "Moviepy - Done !\n",
      "Moviepy - video ready C:\\Users\\chakumar\\CV Projects\\Badminton Highlight Creation\\notShotVideoData\\YONEXFrenchOpen_3059.mp4\n",
      "Moviepy - Building video C:\\Users\\chakumar\\CV Projects\\Badminton Highlight Creation\\notShotVideoData\\YONEXFrenchOpen_3106.mp4.\n",
      "MoviePy - Writing audio in YONEXFrenchOpen_3106TEMP_MPY_wvf_snd.mp3\n"
     ]
    },
    {
     "name": "stderr",
     "output_type": "stream",
     "text": [
      "                                                                \r"
     ]
    },
    {
     "name": "stdout",
     "output_type": "stream",
     "text": [
      "MoviePy - Done.\n",
      "Moviepy - Writing video C:\\Users\\chakumar\\CV Projects\\Badminton Highlight Creation\\notShotVideoData\\YONEXFrenchOpen_3106.mp4\n",
      "\n"
     ]
    },
    {
     "name": "stderr",
     "output_type": "stream",
     "text": [
      "                                                               \r"
     ]
    },
    {
     "name": "stdout",
     "output_type": "stream",
     "text": [
      "Moviepy - Done !\n",
      "Moviepy - video ready C:\\Users\\chakumar\\CV Projects\\Badminton Highlight Creation\\notShotVideoData\\YONEXFrenchOpen_3106.mp4\n",
      "Moviepy - Building video C:\\Users\\chakumar\\CV Projects\\Badminton Highlight Creation\\notShotVideoData\\YONEXFrenchOpen_3134.mp4.\n",
      "MoviePy - Writing audio in YONEXFrenchOpen_3134TEMP_MPY_wvf_snd.mp3\n"
     ]
    },
    {
     "name": "stderr",
     "output_type": "stream",
     "text": [
      "                                                                \r"
     ]
    },
    {
     "name": "stdout",
     "output_type": "stream",
     "text": [
      "MoviePy - Done.\n",
      "Moviepy - Writing video C:\\Users\\chakumar\\CV Projects\\Badminton Highlight Creation\\notShotVideoData\\YONEXFrenchOpen_3134.mp4\n",
      "\n"
     ]
    },
    {
     "name": "stderr",
     "output_type": "stream",
     "text": [
      "                                                               \r"
     ]
    },
    {
     "name": "stdout",
     "output_type": "stream",
     "text": [
      "Moviepy - Done !\n",
      "Moviepy - video ready C:\\Users\\chakumar\\CV Projects\\Badminton Highlight Creation\\notShotVideoData\\YONEXFrenchOpen_3134.mp4\n",
      "Moviepy - Building video C:\\Users\\chakumar\\CV Projects\\Badminton Highlight Creation\\notShotVideoData\\YONEXFrenchOpen_3191.mp4.\n",
      "MoviePy - Writing audio in YONEXFrenchOpen_3191TEMP_MPY_wvf_snd.mp3\n"
     ]
    },
    {
     "name": "stderr",
     "output_type": "stream",
     "text": [
      "                                                                \r"
     ]
    },
    {
     "name": "stdout",
     "output_type": "stream",
     "text": [
      "MoviePy - Done.\n",
      "Moviepy - Writing video C:\\Users\\chakumar\\CV Projects\\Badminton Highlight Creation\\notShotVideoData\\YONEXFrenchOpen_3191.mp4\n",
      "\n"
     ]
    },
    {
     "name": "stderr",
     "output_type": "stream",
     "text": [
      "                                                               \r"
     ]
    },
    {
     "name": "stdout",
     "output_type": "stream",
     "text": [
      "Moviepy - Done !\n",
      "Moviepy - video ready C:\\Users\\chakumar\\CV Projects\\Badminton Highlight Creation\\notShotVideoData\\YONEXFrenchOpen_3191.mp4\n",
      "Moviepy - Building video C:\\Users\\chakumar\\CV Projects\\Badminton Highlight Creation\\notShotVideoData\\YONEXFrenchOpen_3218.mp4.\n",
      "MoviePy - Writing audio in YONEXFrenchOpen_3218TEMP_MPY_wvf_snd.mp3\n"
     ]
    },
    {
     "name": "stderr",
     "output_type": "stream",
     "text": [
      "                                                                \r"
     ]
    },
    {
     "name": "stdout",
     "output_type": "stream",
     "text": [
      "MoviePy - Done.\n",
      "Moviepy - Writing video C:\\Users\\chakumar\\CV Projects\\Badminton Highlight Creation\\notShotVideoData\\YONEXFrenchOpen_3218.mp4\n",
      "\n"
     ]
    },
    {
     "name": "stderr",
     "output_type": "stream",
     "text": [
      "                                                               \r"
     ]
    },
    {
     "name": "stdout",
     "output_type": "stream",
     "text": [
      "Moviepy - Done !\n",
      "Moviepy - video ready C:\\Users\\chakumar\\CV Projects\\Badminton Highlight Creation\\notShotVideoData\\YONEXFrenchOpen_3218.mp4\n",
      "Moviepy - Building video C:\\Users\\chakumar\\CV Projects\\Badminton Highlight Creation\\notShotVideoData\\YONEXFrenchOpen_3261.mp4.\n",
      "MoviePy - Writing audio in YONEXFrenchOpen_3261TEMP_MPY_wvf_snd.mp3\n"
     ]
    },
    {
     "name": "stderr",
     "output_type": "stream",
     "text": [
      "                                                                \r"
     ]
    },
    {
     "name": "stdout",
     "output_type": "stream",
     "text": [
      "MoviePy - Done.\n",
      "Moviepy - Writing video C:\\Users\\chakumar\\CV Projects\\Badminton Highlight Creation\\notShotVideoData\\YONEXFrenchOpen_3261.mp4\n",
      "\n"
     ]
    },
    {
     "name": "stderr",
     "output_type": "stream",
     "text": [
      "                                                               \r"
     ]
    },
    {
     "name": "stdout",
     "output_type": "stream",
     "text": [
      "Moviepy - Done !\n",
      "Moviepy - video ready C:\\Users\\chakumar\\CV Projects\\Badminton Highlight Creation\\notShotVideoData\\YONEXFrenchOpen_3261.mp4\n",
      "Moviepy - Building video C:\\Users\\chakumar\\CV Projects\\Badminton Highlight Creation\\notShotVideoData\\YONEXFrenchOpen_3300.mp4.\n",
      "MoviePy - Writing audio in YONEXFrenchOpen_3300TEMP_MPY_wvf_snd.mp3\n"
     ]
    },
    {
     "name": "stderr",
     "output_type": "stream",
     "text": [
      "                                                                \r"
     ]
    },
    {
     "name": "stdout",
     "output_type": "stream",
     "text": [
      "MoviePy - Done.\n",
      "Moviepy - Writing video C:\\Users\\chakumar\\CV Projects\\Badminton Highlight Creation\\notShotVideoData\\YONEXFrenchOpen_3300.mp4\n",
      "\n"
     ]
    },
    {
     "name": "stderr",
     "output_type": "stream",
     "text": [
      "                                                               \r"
     ]
    },
    {
     "name": "stdout",
     "output_type": "stream",
     "text": [
      "Moviepy - Done !\n",
      "Moviepy - video ready C:\\Users\\chakumar\\CV Projects\\Badminton Highlight Creation\\notShotVideoData\\YONEXFrenchOpen_3300.mp4\n",
      "Moviepy - Building video C:\\Users\\chakumar\\CV Projects\\Badminton Highlight Creation\\notShotVideoData\\YONEXFrenchOpen_3365.mp4.\n",
      "MoviePy - Writing audio in YONEXFrenchOpen_3365TEMP_MPY_wvf_snd.mp3\n"
     ]
    },
    {
     "name": "stderr",
     "output_type": "stream",
     "text": [
      "                                                                \r"
     ]
    },
    {
     "name": "stdout",
     "output_type": "stream",
     "text": [
      "MoviePy - Done.\n",
      "Moviepy - Writing video C:\\Users\\chakumar\\CV Projects\\Badminton Highlight Creation\\notShotVideoData\\YONEXFrenchOpen_3365.mp4\n",
      "\n"
     ]
    },
    {
     "name": "stderr",
     "output_type": "stream",
     "text": [
      "                                                               \r"
     ]
    },
    {
     "name": "stdout",
     "output_type": "stream",
     "text": [
      "Moviepy - Done !\n",
      "Moviepy - video ready C:\\Users\\chakumar\\CV Projects\\Badminton Highlight Creation\\notShotVideoData\\YONEXFrenchOpen_3365.mp4\n",
      "Moviepy - Building video C:\\Users\\chakumar\\CV Projects\\Badminton Highlight Creation\\notShotVideoData\\YONEXFrenchOpen_3406.mp4.\n",
      "MoviePy - Writing audio in YONEXFrenchOpen_3406TEMP_MPY_wvf_snd.mp3\n"
     ]
    },
    {
     "name": "stderr",
     "output_type": "stream",
     "text": [
      "                                                                \r"
     ]
    },
    {
     "name": "stdout",
     "output_type": "stream",
     "text": [
      "MoviePy - Done.\n",
      "Moviepy - Writing video C:\\Users\\chakumar\\CV Projects\\Badminton Highlight Creation\\notShotVideoData\\YONEXFrenchOpen_3406.mp4\n",
      "\n"
     ]
    },
    {
     "name": "stderr",
     "output_type": "stream",
     "text": [
      "                                                               \r"
     ]
    },
    {
     "name": "stdout",
     "output_type": "stream",
     "text": [
      "Moviepy - Done !\n",
      "Moviepy - video ready C:\\Users\\chakumar\\CV Projects\\Badminton Highlight Creation\\notShotVideoData\\YONEXFrenchOpen_3406.mp4\n",
      "Moviepy - Building video C:\\Users\\chakumar\\CV Projects\\Badminton Highlight Creation\\notShotVideoData\\YONEXFrenchOpen_3462.mp4.\n",
      "MoviePy - Writing audio in YONEXFrenchOpen_3462TEMP_MPY_wvf_snd.mp3\n"
     ]
    },
    {
     "name": "stderr",
     "output_type": "stream",
     "text": [
      "                                                                \r"
     ]
    },
    {
     "name": "stdout",
     "output_type": "stream",
     "text": [
      "MoviePy - Done.\n",
      "Moviepy - Writing video C:\\Users\\chakumar\\CV Projects\\Badminton Highlight Creation\\notShotVideoData\\YONEXFrenchOpen_3462.mp4\n",
      "\n"
     ]
    },
    {
     "name": "stderr",
     "output_type": "stream",
     "text": [
      "                                                               \r"
     ]
    },
    {
     "name": "stdout",
     "output_type": "stream",
     "text": [
      "Moviepy - Done !\n",
      "Moviepy - video ready C:\\Users\\chakumar\\CV Projects\\Badminton Highlight Creation\\notShotVideoData\\YONEXFrenchOpen_3462.mp4\n"
     ]
    }
   ],
   "source": [
    "video_path = r\"C:\\Users\\chakumar\\Downloads\\YONEXFrenchOpen.mp4\"\n",
    "anotation_file = r\"C:\\Users\\chakumar\\Downloads\\YONEXFrenchOpen.txt\"\n",
    "with open(anotation_file, 'r') as f:\n",
    "    chars = f.read()\n",
    "    chars = chars.strip().replace(\"\\n\",\"\")\n",
    "    times = chars.split(\",\")\n",
    "times = time_in_seconds(times)\n",
    "extract_non_shot(video_path, nonshot_vid_dir, times)"
   ]
  },
  {
   "cell_type": "code",
   "execution_count": 39,
   "id": "a04a5fc3",
   "metadata": {},
   "outputs": [
    {
     "name": "stdout",
     "output_type": "stream",
     "text": [
      "(720, 1280, 3)\n"
     ]
    }
   ],
   "source": [
    "video_path = r'C:\\Users\\chakumar\\CV Projects\\BadmintonShotDetection\\ShotVideoData\\SingaporeOpen_3447.mp4'\n",
    "vid = imageio.get_reader(video_path, format='ffmpeg', fps = 10)\n",
    "count = 0\n",
    "for frame in vid:\n",
    "    #h, w, _ = frame.shape\n",
    "    #a_r = w/h\n",
    "    #h = h + 2000e\n",
    "    #w = int(h * aspect_ratio)\n",
    "    #frame = cv2.resize(frame, (w,h))\n",
    "    #frame = cv2.cvtColor(frame, cv2.COLOR_RGB2GRAY)\n",
    "    #imageio.imwrite(f\"Bad_image_{count}.jpg\", frame)\n",
    "    plt.imshow(frame)\n",
    "    plt.figure(figsize=(6, 8))\n",
    "    plt.axis('off')  # Turn off axes\n",
    "    plt.show()    "
   ]
  },
  {
   "cell_type": "code",
   "execution_count": 1,
   "id": "4e6a81f5",
   "metadata": {},
   "outputs": [
    {
     "data": {
      "text/plain": [
       "'C:\\\\Users\\\\chakumar\\\\Downloads\\\\YONEX French Open 2022  RankireddyShetty (IND) [7] vs LuYang (TPE)  F.mp4'"
      ]
     },
     "execution_count": 1,
     "metadata": {},
     "output_type": "execute_result"
    }
   ],
   "source": [
    "from pytube import YouTube\n",
    "\n",
    "video_url = 'https://www.youtube.com/watch?v=MNWpsvmzoBE'\n",
    "yt = YouTube(video_url)\n",
    "video_stream = yt.streams.get_highest_resolution()\n",
    "\n",
    "# Set the download destination\n",
    "download_path = r'C:\\Users\\chakumar\\Downloads'\n",
    "video_stream.download(output_path=download_path)\n"
   ]
  }
 ],
 "metadata": {
  "kernelspec": {
   "display_name": "Python 3 (ipykernel)",
   "language": "python",
   "name": "python3"
  },
  "language_info": {
   "codemirror_mode": {
    "name": "ipython",
    "version": 3
   },
   "file_extension": ".py",
   "mimetype": "text/x-python",
   "name": "python",
   "nbconvert_exporter": "python",
   "pygments_lexer": "ipython3",
   "version": "3.10.9"
  }
 },
 "nbformat": 4,
 "nbformat_minor": 5
}
